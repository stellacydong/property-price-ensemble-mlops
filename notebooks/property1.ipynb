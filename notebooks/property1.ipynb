{
 "cells": [
  {
   "cell_type": "code",
   "execution_count": 1,
   "id": "3b1ca252-e2c8-46ef-928d-1c828d02f402",
   "metadata": {},
   "outputs": [],
   "source": [
    "import warnings\n",
    "warnings.filterwarnings(\"ignore\")  # Globally suppress warnings\n",
    "\n",
    "import pandas as pd\n",
    "from sklearn.preprocessing import LabelEncoder\n",
    "from sklearn.model_selection import train_test_split\n",
    "from sklearn.ensemble import RandomForestClassifier\n",
    "from sklearn.metrics import accuracy_score, classification_report\n",
    "from sklearn.linear_model import LogisticRegression\n",
    "from sklearn.ensemble import HistGradientBoostingClassifier\n",
    "from xgboost import XGBClassifier\n",
    "from sklearn.model_selection import GridSearchCV\n",
    "from sklearn.ensemble import VotingClassifier\n",
    "from lightgbm import LGBMClassifier\n",
    "from sklearn.utils.class_weight import compute_class_weight\n",
    "import lightgbm as lgb\n",
    "import numpy as np\n",
    "from sklearn.feature_selection import SelectKBest, f_classif\n",
    "\n",
    "from sklearn.metrics import confusion_matrix, ConfusionMatrixDisplay\n",
    "import matplotlib.pyplot as plt\n",
    "import seaborn as sns\n",
    "\n",
    "import mlflow\n",
    "import mlflow.sklearn\n",
    "from sklearn.metrics import accuracy_score, f1_score, classification_report"
   ]
  },
  {
   "cell_type": "code",
   "execution_count": 2,
   "id": "5442e1b1-5884-436e-aba7-0a9f2c08da01",
   "metadata": {},
   "outputs": [
    {
     "name": "stdout",
     "output_type": "stream",
     "text": [
      "<class 'pandas.core.frame.DataFrame'>\n",
      "RangeIndex: 10001 entries, 0 to 10000\n",
      "Data columns (total 15 columns):\n",
      " #   Column                      Non-Null Count  Dtype  \n",
      "---  ------                      --------------  -----  \n",
      " 0   uid                         10000 non-null  float64\n",
      " 1   city                        10000 non-null  object \n",
      " 2   homeType                    10000 non-null  object \n",
      " 3   latitude                    10000 non-null  float64\n",
      " 4   longitude                   10000 non-null  float64\n",
      " 5   garageSpaces                10000 non-null  float64\n",
      " 6   hasSpa                      10000 non-null  object \n",
      " 7   yearBuilt                   10000 non-null  float64\n",
      " 8   numOfPatioAndPorchFeatures  10000 non-null  float64\n",
      " 9   lotSizeSqFt                 10000 non-null  float64\n",
      " 10  avgSchoolRating             10000 non-null  float64\n",
      " 11  MedianStudentsPerTeacher    10000 non-null  float64\n",
      " 12  numOfBathrooms              10000 non-null  float64\n",
      " 13  numOfBedrooms               10000 non-null  float64\n",
      " 14  priceRange                  10000 non-null  object \n",
      "dtypes: float64(11), object(4)\n",
      "memory usage: 1.1+ MB\n"
     ]
    }
   ],
   "source": [
    "# load data \n",
    "df = pd.read_csv(\"train_ml_ops.csv\")\n",
    "df.head()\n",
    "df.info()"
   ]
  },
  {
   "cell_type": "code",
   "execution_count": 3,
   "id": "ef9cbb04-be8e-47ae-bc0f-294970956107",
   "metadata": {},
   "outputs": [],
   "source": [
    "# missing data \n",
    "df.isna().sum()\n",
    "df = df[~df.isnull().any(axis=1)]\n",
    "\n",
    "# drop uid \n",
    "df = df.drop(columns=[\"uid\"])\n",
    "\n",
    "# categories data\n",
    "df.city.unique()\n",
    "df.homeType.unique()\n",
    "df.hasSpa.unique()\n",
    "df.priceRange.unique()\n",
    "\n",
    "# Convert 'hasSpa' to binary 1/0, robust to True/False, \"True\"/\"False\", and NaN\n",
    "df.hasSpa = df.hasSpa.astype(str).str.lower().map({\"true\": 1, \"false\": 0})\n",
    "\n",
    "# Label encode categorical variables\n",
    "label_encoders = {}\n",
    "\n",
    "# Encode 'city'\n",
    "city_le = LabelEncoder()\n",
    "df['city'] = city_le.fit_transform(df['city'])\n",
    "label_encoders['city'] = city_le\n",
    "\n",
    "# Encode 'homeType'\n",
    "home_type_le = LabelEncoder()\n",
    "df['homeType'] = home_type_le.fit_transform(df['homeType'])\n",
    "label_encoders['homeType'] = home_type_le\n",
    "\n",
    "# Encode 'priceRange'\n",
    "price_range_le = LabelEncoder()\n",
    "df['priceRange'] = price_range_le.fit_transform(df['priceRange'])\n",
    "label_encoders['priceRange'] = price_range_le"
   ]
  },
  {
   "cell_type": "code",
   "execution_count": 17,
   "id": "ad932404-fc48-4bbb-9868-eb1216255cb8",
   "metadata": {},
   "outputs": [],
   "source": [
    "# # look distribution \n",
    "\n",
    "# df.hist(bins=30, figsize=(10, 8))\n",
    "# plt.suptitle(\"Feature Distributions\")\n",
    "# plt.show()"
   ]
  },
  {
   "cell_type": "markdown",
   "id": "4f70384c-a4e7-40dd-a03a-17be220ddc3e",
   "metadata": {},
   "source": [
    "1. right-skewed: garageSpaces, lotSizeSqFt, numOfPatioAndPorchFeatures, numOfBathrooms, numOfBedrooms\n",
    "2. latitude and longitude show a good spread \n",
    "3. avgSchoolRating, MedianStudentsPerTeacher, yearBuilt look normally distributed enough \n",
    "4. priceRange is somewhat balanced — good for classification."
   ]
  },
  {
   "cell_type": "code",
   "execution_count": 18,
   "id": "87d05134-fdf2-4459-b970-5dd1b55f0e4a",
   "metadata": {},
   "outputs": [],
   "source": [
    "# # correleration \n",
    "\n",
    "# corr = df.corr(numeric_only=True)\n",
    "# plt.figure(figsize=(12, 8))\n",
    "# sns.heatmap(corr, annot=True, cmap='coolwarm')\n",
    "# plt.title(\"Feature Correlation Matrix\")\n",
    "# plt.show()\n"
   ]
  },
  {
   "cell_type": "markdown",
   "id": "0956c1e1-40d8-4e20-9845-9cac5b3621c6",
   "metadata": {},
   "source": [
    "1. Strong Positive Correlations with priceRange\n",
    "- avgSchoolRating → 0.50\n",
    "- numOfBathrooms → 0.47\n",
    "- numOfBedrooms → 0.35\n",
    "- MedianStudentsPerTeacher → 0.39\n",
    "\n",
    "2. Multicollinearity Concerns\n",
    "\n",
    "- numOfBathrooms vs. numOfBedrooms → 0.64\n",
    "- avgSchoolRating vs. MedianStudentsPerTeacher → 0.74\n",
    "\n",
    "3. Weak or Negative Correlations with priceRange\n",
    "\n",
    "- longitude: −0.34\n",
    "- city, homeType: ~0.06\n",
    "- lotSizeSqFt: Very weak correlation (−0.01) despite being a big number\n",
    "- longitude might still be useful when combined with latitude."
   ]
  },
  {
   "cell_type": "markdown",
   "id": "293561c9-6fd2-4b6b-b62b-3570a2c9274c",
   "metadata": {},
   "source": [
    "#### baseline "
   ]
  },
  {
   "cell_type": "code",
   "execution_count": 6,
   "id": "3209740e-573d-4128-abff-c54cf158b4c9",
   "metadata": {},
   "outputs": [],
   "source": [
    "# Separate features and target\n",
    "X = df.drop(columns=[\"priceRange\"])\n",
    "y = df[\"priceRange\"]"
   ]
  },
  {
   "cell_type": "code",
   "execution_count": 7,
   "id": "d98191b2-481b-4e1c-acc0-1d332370b51f",
   "metadata": {},
   "outputs": [
    {
     "name": "stdout",
     "output_type": "stream",
     "text": [
      "\n",
      "Final X shape: (10000, 13)\n",
      "Target y distribution:\n",
      " priceRange\n",
      "1    2356\n",
      "2    2301\n",
      "3    2275\n",
      "4    1819\n",
      "0    1249\n",
      "Name: count, dtype: int64\n"
     ]
    }
   ],
   "source": [
    "print(\"\\nFinal X shape:\", X.shape)\n",
    "print(\"Target y distribution:\\n\", y.value_counts())"
   ]
  },
  {
   "cell_type": "code",
   "execution_count": 19,
   "id": "704c665b-d26b-4523-b964-86ed8efc74a5",
   "metadata": {},
   "outputs": [
    {
     "name": "stdout",
     "output_type": "stream",
     "text": [
      "[LightGBM] [Info] Auto-choosing row-wise multi-threading, the overhead of testing was 0.000785 seconds.\n",
      "You can set `force_row_wise=true` to remove the overhead.\n",
      "And if memory is not enough, you can set `force_col_wise=true`.\n",
      "[LightGBM] [Info] Total Bins 1309\n",
      "[LightGBM] [Info] Number of data points in the train set: 8000, number of used features: 15\n",
      "[LightGBM] [Info] Start training from score -1.609438\n",
      "[LightGBM] [Info] Start training from score -1.609438\n",
      "[LightGBM] [Info] Start training from score -1.609438\n",
      "[LightGBM] [Info] Start training from score -1.609438\n",
      "[LightGBM] [Info] Start training from score -1.609438\n"
     ]
    }
   ],
   "source": [
    "# # Plot target distribution\n",
    "\n",
    "# plt.figure(figsize=(6, 3))\n",
    "# sns.countplot(x=y, order=y.value_counts().index)\n",
    "# plt.title(\"Distribution of Target: priceRange\")\n",
    "# plt.xlabel(\"Price Range (Encoded)\")\n",
    "# plt.ylabel(\"Count\")\n",
    "# plt.xticks(rotation=45)\n",
    "# plt.tight_layout()\n",
    "# plt.show()"
   ]
  },
  {
   "cell_type": "code",
   "execution_count": 9,
   "id": "814dc0e0-8e8d-4884-8e81-dc159d8fbe13",
   "metadata": {},
   "outputs": [
    {
     "name": "stdout",
     "output_type": "stream",
     "text": [
      "Baseline Accuracy: 0.6305\n",
      "Classification Report:\n",
      "               precision    recall  f1-score   support\n",
      "\n",
      "           0       0.73      0.55      0.63       250\n",
      "           1       0.59      0.63      0.61       471\n",
      "           2       0.53      0.55      0.54       460\n",
      "           3       0.61      0.64      0.62       455\n",
      "           4       0.81      0.77      0.79       364\n",
      "\n",
      "    accuracy                           0.63      2000\n",
      "   macro avg       0.65      0.63      0.64      2000\n",
      "weighted avg       0.64      0.63      0.63      2000\n",
      "\n"
     ]
    }
   ],
   "source": [
    "#  Train-Test Split\n",
    "from sklearn.model_selection import train_test_split\n",
    "X_train, X_test, y_train, y_test = train_test_split(\n",
    "    X, y, test_size=0.2, random_state=42, stratify=y\n",
    ")\n",
    "# Train Baseline Model (random forest) \n",
    "from sklearn.ensemble import RandomForestClassifier\n",
    "baseline_model = RandomForestClassifier(random_state=42)\n",
    "baseline_model.fit(X_train, y_train)\n",
    "# Evaluate Model\n",
    "y_pred = baseline_model.predict(X_test)\n",
    "accuracy = accuracy_score(y_test, y_pred)\n",
    "print(\"Baseline Accuracy:\", accuracy)\n",
    "print(\"Classification Report:\\n\", classification_report(y_test, y_pred))"
   ]
  },
  {
   "cell_type": "markdown",
   "id": "8b135fe5-06cf-447e-a336-c1055174fba6",
   "metadata": {},
   "source": [
    "- A baseline accuracy of ~63% is a good starting point, especially for a multi-class problem with 5 classes.\n",
    "- Class 4 performs best — high precision and recall\n",
    "- Class 2 underperforms — likely needs more representative data or refined features\n",
    "- Some class imbalance may be impacting the model"
   ]
  },
  {
   "cell_type": "markdown",
   "id": "0ea4505b-9d8c-4dcb-a588-969ea0e81d60",
   "metadata": {},
   "source": [
    "#### Train Model with Class Weights "
   ]
  },
  {
   "cell_type": "code",
   "execution_count": 10,
   "id": "bfedc3dd-15b0-454e-b5ab-8542a466e466",
   "metadata": {},
   "outputs": [
    {
     "name": "stdout",
     "output_type": "stream",
     "text": [
      "✅ Accuracy with class_weight='balanced': 0.628\n",
      "\n",
      "📋 Classification Report (Weighted Model):\n",
      "              precision    recall  f1-score   support\n",
      "\n",
      "           0       0.71      0.58      0.64       250\n",
      "           1       0.58      0.63      0.60       471\n",
      "           2       0.54      0.54      0.54       460\n",
      "           3       0.60      0.64      0.62       455\n",
      "           4       0.80      0.77      0.78       364\n",
      "\n",
      "    accuracy                           0.63      2000\n",
      "   macro avg       0.65      0.63      0.64      2000\n",
      "weighted avg       0.63      0.63      0.63      2000\n",
      "\n"
     ]
    }
   ],
   "source": [
    "# Define X and y\n",
    "X = df.drop(columns=[\"priceRange\"])\n",
    "y = df[\"priceRange\"]\n",
    "\n",
    "# Train-Test Split\n",
    "X_train, X_test, y_train, y_test = train_test_split(\n",
    "    X, y, test_size=0.2, random_state=42, stratify=y\n",
    ")\n",
    "\n",
    "# Train Model with Class Weights\n",
    "weighted_model = RandomForestClassifier(random_state=42, class_weight=\"balanced\")\n",
    "weighted_model.fit(X_train, y_train)\n",
    "# Evaluate and Compare\n",
    "y_pred = weighted_model.predict(X_test)\n",
    "\n",
    "accuracy = accuracy_score(y_test, y_pred)\n",
    "print(\"✅ Accuracy with class_weight='balanced':\", accuracy)\n",
    "\n",
    "print(\"\\n📋 Classification Report (Weighted Model):\")\n",
    "print(classification_report(y_test, y_pred))\n"
   ]
  },
  {
   "cell_type": "markdown",
   "id": "ee033837-b149-4272-9d17-afc8a9640d8d",
   "metadata": {},
   "source": [
    "- Test LogisticRegression, XGBoost, or HistGradientBoostingClassifier\n",
    "- Tune hyperparameters with GridSearchCV"
   ]
  },
  {
   "cell_type": "markdown",
   "id": "5255dcbe-d40b-498e-aaa9-2d454836fcf2",
   "metadata": {},
   "source": [
    "#### Compare Multiple Classifiers with GridSearchCV"
   ]
  },
  {
   "cell_type": "code",
   "execution_count": 11,
   "id": "e2dff538-4d34-4ecc-8d4e-e95da77c2d37",
   "metadata": {},
   "outputs": [
    {
     "name": "stdout",
     "output_type": "stream",
     "text": [
      "\n",
      " Tuning LogisticRegression...\n"
     ]
    },
    {
     "name": "stderr",
     "output_type": "stream",
     "text": [
      "/Users/Pi/miniconda3/envs/myenv/lib/python3.10/site-packages/sklearn/linear_model/_logistic.py:465: ConvergenceWarning: lbfgs failed to converge (status=1):\n",
      "STOP: TOTAL NO. OF ITERATIONS REACHED LIMIT.\n",
      "\n",
      "Increase the number of iterations (max_iter) or scale the data as shown in:\n",
      "    https://scikit-learn.org/stable/modules/preprocessing.html\n",
      "Please also refer to the documentation for alternative solver options:\n",
      "    https://scikit-learn.org/stable/modules/linear_model.html#logistic-regression\n",
      "  n_iter_i = _check_optimize_result(\n",
      "/Users/Pi/miniconda3/envs/myenv/lib/python3.10/site-packages/sklearn/linear_model/_logistic.py:465: ConvergenceWarning: lbfgs failed to converge (status=1):\n",
      "STOP: TOTAL NO. OF ITERATIONS REACHED LIMIT.\n",
      "\n",
      "Increase the number of iterations (max_iter) or scale the data as shown in:\n",
      "    https://scikit-learn.org/stable/modules/preprocessing.html\n",
      "Please also refer to the documentation for alternative solver options:\n",
      "    https://scikit-learn.org/stable/modules/linear_model.html#logistic-regression\n",
      "  n_iter_i = _check_optimize_result(\n",
      "/Users/Pi/miniconda3/envs/myenv/lib/python3.10/site-packages/sklearn/linear_model/_logistic.py:465: ConvergenceWarning: lbfgs failed to converge (status=1):\n",
      "STOP: TOTAL NO. OF ITERATIONS REACHED LIMIT.\n",
      "\n",
      "Increase the number of iterations (max_iter) or scale the data as shown in:\n",
      "    https://scikit-learn.org/stable/modules/preprocessing.html\n",
      "Please also refer to the documentation for alternative solver options:\n",
      "    https://scikit-learn.org/stable/modules/linear_model.html#logistic-regression\n",
      "  n_iter_i = _check_optimize_result(\n",
      "/Users/Pi/miniconda3/envs/myenv/lib/python3.10/site-packages/sklearn/linear_model/_logistic.py:465: ConvergenceWarning: lbfgs failed to converge (status=1):\n",
      "STOP: TOTAL NO. OF ITERATIONS REACHED LIMIT.\n",
      "\n",
      "Increase the number of iterations (max_iter) or scale the data as shown in:\n",
      "    https://scikit-learn.org/stable/modules/preprocessing.html\n",
      "Please also refer to the documentation for alternative solver options:\n",
      "    https://scikit-learn.org/stable/modules/linear_model.html#logistic-regression\n",
      "  n_iter_i = _check_optimize_result(\n",
      "/Users/Pi/miniconda3/envs/myenv/lib/python3.10/site-packages/sklearn/linear_model/_logistic.py:465: ConvergenceWarning: lbfgs failed to converge (status=1):\n",
      "STOP: TOTAL NO. OF ITERATIONS REACHED LIMIT.\n",
      "\n",
      "Increase the number of iterations (max_iter) or scale the data as shown in:\n",
      "    https://scikit-learn.org/stable/modules/preprocessing.html\n",
      "Please also refer to the documentation for alternative solver options:\n",
      "    https://scikit-learn.org/stable/modules/linear_model.html#logistic-regression\n",
      "  n_iter_i = _check_optimize_result(\n",
      "/Users/Pi/miniconda3/envs/myenv/lib/python3.10/site-packages/sklearn/linear_model/_logistic.py:465: ConvergenceWarning: lbfgs failed to converge (status=1):\n",
      "STOP: TOTAL NO. OF ITERATIONS REACHED LIMIT.\n",
      "\n",
      "Increase the number of iterations (max_iter) or scale the data as shown in:\n",
      "    https://scikit-learn.org/stable/modules/preprocessing.html\n",
      "Please also refer to the documentation for alternative solver options:\n",
      "    https://scikit-learn.org/stable/modules/linear_model.html#logistic-regression\n",
      "  n_iter_i = _check_optimize_result(\n",
      "/Users/Pi/miniconda3/envs/myenv/lib/python3.10/site-packages/sklearn/linear_model/_logistic.py:465: ConvergenceWarning: lbfgs failed to converge (status=1):\n",
      "STOP: TOTAL NO. OF ITERATIONS REACHED LIMIT.\n",
      "\n",
      "Increase the number of iterations (max_iter) or scale the data as shown in:\n",
      "    https://scikit-learn.org/stable/modules/preprocessing.html\n",
      "Please also refer to the documentation for alternative solver options:\n",
      "    https://scikit-learn.org/stable/modules/linear_model.html#logistic-regression\n",
      "  n_iter_i = _check_optimize_result(\n",
      "/Users/Pi/miniconda3/envs/myenv/lib/python3.10/site-packages/sklearn/linear_model/_logistic.py:465: ConvergenceWarning: lbfgs failed to converge (status=1):\n",
      "STOP: TOTAL NO. OF ITERATIONS REACHED LIMIT.\n",
      "\n",
      "Increase the number of iterations (max_iter) or scale the data as shown in:\n",
      "    https://scikit-learn.org/stable/modules/preprocessing.html\n",
      "Please also refer to the documentation for alternative solver options:\n",
      "    https://scikit-learn.org/stable/modules/linear_model.html#logistic-regression\n",
      "  n_iter_i = _check_optimize_result(\n",
      "/Users/Pi/miniconda3/envs/myenv/lib/python3.10/site-packages/sklearn/linear_model/_logistic.py:465: ConvergenceWarning: lbfgs failed to converge (status=1):\n",
      "STOP: TOTAL NO. OF ITERATIONS REACHED LIMIT.\n",
      "\n",
      "Increase the number of iterations (max_iter) or scale the data as shown in:\n",
      "    https://scikit-learn.org/stable/modules/preprocessing.html\n",
      "Please also refer to the documentation for alternative solver options:\n",
      "    https://scikit-learn.org/stable/modules/linear_model.html#logistic-regression\n",
      "  n_iter_i = _check_optimize_result(\n"
     ]
    },
    {
     "name": "stdout",
     "output_type": "stream",
     "text": [
      "\n",
      " Best params for LogisticRegression: {'C': 0.1}\n",
      " Accuracy: 0.3805\n",
      " Classification Report:\n",
      "              precision    recall  f1-score   support\n",
      "\n",
      "           0       0.32      0.60      0.42       250\n",
      "           1       0.41      0.33      0.37       471\n",
      "           2       0.32      0.20      0.25       460\n",
      "           3       0.34      0.35      0.34       455\n",
      "           4       0.51      0.57      0.54       364\n",
      "\n",
      "    accuracy                           0.38      2000\n",
      "   macro avg       0.38      0.41      0.38      2000\n",
      "weighted avg       0.38      0.38      0.37      2000\n",
      "\n",
      "\n",
      " Tuning HistGradientBoosting...\n",
      "\n",
      " Best params for HistGradientBoosting: {'learning_rate': 0.1, 'max_iter': 100}\n",
      " Accuracy: 0.6370\n",
      " Classification Report:\n",
      "              precision    recall  f1-score   support\n",
      "\n",
      "           0       0.76      0.57      0.65       250\n",
      "           1       0.60      0.64      0.62       471\n",
      "           2       0.53      0.53      0.53       460\n",
      "           3       0.62      0.66      0.64       455\n",
      "           4       0.79      0.78      0.78       364\n",
      "\n",
      "    accuracy                           0.64      2000\n",
      "   macro avg       0.66      0.64      0.64      2000\n",
      "weighted avg       0.64      0.64      0.64      2000\n",
      "\n",
      "\n",
      " Tuning XGBoost...\n",
      "\n",
      " Best params for XGBoost: {'learning_rate': 0.1, 'max_depth': 5}\n",
      " Accuracy: 0.6365\n",
      " Classification Report:\n",
      "              precision    recall  f1-score   support\n",
      "\n",
      "           0       0.78      0.54      0.64       250\n",
      "           1       0.59      0.69      0.64       471\n",
      "           2       0.55      0.49      0.52       460\n",
      "           3       0.60      0.63      0.62       455\n",
      "           4       0.77      0.82      0.79       364\n",
      "\n",
      "    accuracy                           0.64      2000\n",
      "   macro avg       0.66      0.64      0.64      2000\n",
      "weighted avg       0.64      0.64      0.63      2000\n",
      "\n"
     ]
    }
   ],
   "source": [
    "X = df.drop(columns=[\"priceRange\"])\n",
    "y = df[\"priceRange\"]\n",
    "\n",
    "X_train, X_test, y_train, y_test = train_test_split(\n",
    "    X, y, test_size=0.2, stratify=y, random_state=42\n",
    ")\n",
    "\n",
    "models = {\n",
    "    \"LogisticRegression\": (LogisticRegression(max_iter=1000, class_weight=\"balanced\"),\n",
    "                           {\"C\": [0.1, 1, 10]}),\n",
    "\n",
    "    \"HistGradientBoosting\": (HistGradientBoostingClassifier(),\n",
    "                             {\"learning_rate\": [0.01, 0.1], \"max_iter\": [100, 200]}),\n",
    "\n",
    "    \"XGBoost\": (XGBClassifier(objective=\"multi:softmax\", num_class=len(set(y)), eval_metric=\"mlogloss\"),\n",
    "                {\"max_depth\": [3, 5], \"learning_rate\": [0.05, 0.1]})\n",
    "}\n",
    "\n",
    "for name, (model, param_grid) in models.items():\n",
    "    print(f\"\\n Tuning {name}...\")\n",
    "    grid = GridSearchCV(model, param_grid, cv=3, scoring='accuracy', n_jobs=-1)\n",
    "    grid.fit(X_train, y_train)\n",
    "\n",
    "    best_model = grid.best_estimator_\n",
    "    y_pred = best_model.predict(X_test)\n",
    "\n",
    "    print(f\"\\n Best params for {name}: {grid.best_params_}\")\n",
    "    print(f\" Accuracy: {accuracy_score(y_test, y_pred):.4f}\")\n",
    "    print(f\" Classification Report:\\n{classification_report(y_test, y_pred)}\")\n"
   ]
  },
  {
   "cell_type": "markdown",
   "id": "62a57eaa-74fc-4018-8d1d-05eeda1bc1f5",
   "metadata": {},
   "source": [
    "- HistGradientBoosting\t0.6370\t✅ Best accuracy; strong across all classes\n",
    "- XGBoost\t0.6365\t✅ Nearly identical to HGB; great class 4 recall\n",
    "- Random Forest\t0.6310\tSolid baseline with feature selection\n",
    "- Logistic Regression\t0.3805\t❌ Underperformed due to scale sensitivity and data non-linearity"
   ]
  },
  {
   "cell_type": "markdown",
   "id": "1af60467-add1-4403-a270-20ae022d0a98",
   "metadata": {},
   "source": [
    "#### To improve your HistGradientBoostingClassifier, you can tune several hyperparameters such as:\n",
    "\n",
    "- learning_rate: step size (lower often generalizes better)\n",
    "- max_iter: number of boosting iterations\n",
    "- max_leaf_nodes: complexity of individual trees\n",
    "- min_samples_leaf: minimum samples per leaf\n",
    "- l2_regularization: regularization strength"
   ]
  },
  {
   "cell_type": "markdown",
   "id": "03a92514-f89e-45be-9ba0-c7c1b6a0a675",
   "metadata": {},
   "source": [
    "## feature engineering\n",
    "- Option 1: SelectKBest (statistical test-based)\n",
    "- Option 2: feature_importances_ from RandomForest"
   ]
  },
  {
   "cell_type": "code",
   "execution_count": 12,
   "id": "854c49df-be68-4ae2-8ffe-015ed38864d4",
   "metadata": {},
   "outputs": [
    {
     "name": "stdout",
     "output_type": "stream",
     "text": [
      "Top 10 features using SelectKBest:\n",
      "['city', 'latitude', 'longitude', 'garageSpaces', 'hasSpa', 'numOfPatioAndPorchFeatures', 'avgSchoolRating', 'MedianStudentsPerTeacher', 'numOfBathrooms', 'numOfBedrooms']\n",
      "\n",
      "Top 10 features using RandomForest:\n",
      "latitude                      0.185383\n",
      "longitude                     0.180566\n",
      "lotSizeSqFt                   0.153869\n",
      "yearBuilt                     0.121311\n",
      "avgSchoolRating               0.089195\n",
      "numOfBathrooms                0.070552\n",
      "MedianStudentsPerTeacher      0.052128\n",
      "garageSpaces                  0.041757\n",
      "numOfPatioAndPorchFeatures    0.041193\n",
      "numOfBedrooms                 0.040090\n",
      "dtype: float64\n",
      "\n",
      " Combined Top Features (Union):\n",
      "['MedianStudentsPerTeacher', 'avgSchoolRating', 'city', 'garageSpaces', 'hasSpa', 'latitude', 'longitude', 'lotSizeSqFt', 'numOfBathrooms', 'numOfBedrooms', 'numOfPatioAndPorchFeatures', 'yearBuilt']\n"
     ]
    }
   ],
   "source": [
    "X = df.drop(columns=[\"priceRange\"])\n",
    "y = df[\"priceRange\"]\n",
    "\n",
    "# Apply SelectKBest with ANOVA F-value\n",
    "selector = SelectKBest(score_func=f_classif, k=10)\n",
    "X_kbest = selector.fit_transform(X, y)\n",
    "kbest_features = X.columns[selector.get_support()]\n",
    "print(\"Top 10 features using SelectKBest:\")\n",
    "print(kbest_features.tolist())\n",
    "\n",
    "# Train Random Forest to extract feature importances\n",
    "rf = RandomForestClassifier(n_estimators=100, random_state=42)\n",
    "rf.fit(X, y)\n",
    "# Get and sort feature importances\n",
    "importances = rf.feature_importances_\n",
    "rf_ranking = pd.Series(importances, index=X.columns).sort_values(ascending=False)\n",
    "print(\"\\nTop 10 features using RandomForest:\")\n",
    "print(rf_ranking.head(10))\n",
    "\n",
    "# Compare and Merge Results\n",
    "combined_top_features = sorted(set(kbest_features).union(rf_ranking.head(10).index))\n",
    "print(\"\\n Combined Top Features (Union):\")\n",
    "print(combined_top_features)\n",
    "\n",
    "# choose those top 10 feature columns \n",
    "X = X[combined_top_features]\n",
    "\n",
    "# Add Interaction Features\n",
    "X['rating_per_teacher'] = X['avgSchoolRating'] / (X['MedianStudentsPerTeacher'] + 1)\n",
    "X['area_per_bed'] = X['lotSizeSqFt'] / (X['numOfBedrooms'] + 1)\n",
    "X['garage_per_bath'] = X['garageSpaces'] / (X['numOfBathrooms'] + 1)"
   ]
  },
  {
   "cell_type": "markdown",
   "id": "f9905022-4d41-4e11-aa8d-e10d0f84573f",
   "metadata": {},
   "source": [
    "#### VotingClassifier with Feature Engineered Data"
   ]
  },
  {
   "cell_type": "code",
   "execution_count": 13,
   "id": "8424c981-af27-44c0-a162-aab898096745",
   "metadata": {},
   "outputs": [
    {
     "name": "stdout",
     "output_type": "stream",
     "text": [
      "Voting Classifier Accuracy: 0.6315\n",
      "Classification Report:\n",
      "               precision    recall  f1-score   support\n",
      "\n",
      "           0       0.76      0.56      0.64       250\n",
      "           1       0.60      0.65      0.63       471\n",
      "           2       0.53      0.53      0.53       460\n",
      "           3       0.59      0.63      0.61       455\n",
      "           4       0.78      0.79      0.79       364\n",
      "\n",
      "    accuracy                           0.63      2000\n",
      "   macro avg       0.65      0.63      0.64      2000\n",
      "weighted avg       0.64      0.63      0.63      2000\n",
      "\n"
     ]
    }
   ],
   "source": [
    "from sklearn.ensemble import HistGradientBoostingClassifier, VotingClassifier\n",
    "from xgboost import XGBClassifier\n",
    "from sklearn.model_selection import train_test_split\n",
    "from sklearn.metrics import accuracy_score, classification_report\n",
    "\n",
    "# 1. Train-test split (assuming X and y already defined with engineered features)\n",
    "X_train, X_test, y_train, y_test = train_test_split(\n",
    "    X, y, test_size=0.2, stratify=y, random_state=42\n",
    ")\n",
    "\n",
    "# 2. Define individual models\n",
    "xgb_model = XGBClassifier(\n",
    "    learning_rate=0.1,\n",
    "    max_depth=5,\n",
    "    n_estimators=100,\n",
    "    eval_metric='mlogloss',\n",
    "    verbosity=0\n",
    ")\n",
    "\n",
    "histgb_model = HistGradientBoostingClassifier(\n",
    "    learning_rate=0.05,\n",
    "    max_iter=200,\n",
    "    max_leaf_nodes=31,\n",
    "    min_samples_leaf=50,\n",
    "    random_state=42\n",
    ")\n",
    "\n",
    "# 3. Combine models in a soft voting ensemble\n",
    "voting_model = VotingClassifier(\n",
    "    estimators=[\n",
    "        ('xgb', xgb_model),\n",
    "        ('histgb', histgb_model)\n",
    "    ],\n",
    "    voting='soft',  # Use predicted probabilities\n",
    "    n_jobs=-1\n",
    ")\n",
    "\n",
    "# 4. Train the ensemble model\n",
    "voting_model.fit(X_train, y_train)\n",
    "\n",
    "# 5. Evaluate\n",
    "y_pred = voting_model.predict(X_test)\n",
    "\n",
    "print(\"Voting Classifier Accuracy:\", accuracy_score(y_test, y_pred))\n",
    "print(\"Classification Report:\\n\", classification_report(y_test, y_pred))\n"
   ]
  },
  {
   "cell_type": "markdown",
   "id": "5a42dba0-7cc2-4e80-85fc-e66e39c992da",
   "metadata": {},
   "source": [
    "#### ensemble model includes LightGBM + HistGB + XGBoost\n",
    "- add LightGBM with cost-sensitive learning to boost performance, with feature engineering, especially for underperforming classes like class 2 and class 0\n"
   ]
  },
  {
   "cell_type": "code",
   "execution_count": 14,
   "id": "7c3b8974-47b8-46c4-ad5a-da36d905aabf",
   "metadata": {},
   "outputs": [
    {
     "name": "stderr",
     "output_type": "stream",
     "text": [
      "/Users/Pi/miniconda3/envs/myenv/lib/python3.10/site-packages/xgboost/training.py:183: UserWarning: [00:00:13] WARNING: /Users/runner/work/xgboost/xgboost/src/learner.cc:738: \n",
      "Parameters: { \"use_label_encoder\" } are not used.\n",
      "\n",
      "  bst.update(dtrain, iteration=i, fobj=obj)\n"
     ]
    },
    {
     "name": "stdout",
     "output_type": "stream",
     "text": [
      "📊 Voting Ensemble Accuracy: 0.636\n",
      "📋 Classification Report:\n",
      "               precision    recall  f1-score   support\n",
      "\n",
      "           0       0.72      0.58      0.64       250\n",
      "           1       0.61      0.63      0.62       471\n",
      "           2       0.53      0.55      0.54       460\n",
      "           3       0.61      0.63      0.62       455\n",
      "           4       0.79      0.80      0.80       364\n",
      "\n",
      "    accuracy                           0.64      2000\n",
      "   macro avg       0.65      0.64      0.64      2000\n",
      "weighted avg       0.64      0.64      0.64      2000\n",
      "\n"
     ]
    }
   ],
   "source": [
    "\n",
    "\n",
    "# 1. Split your data (X, y assumed to be ready)\n",
    "X_train, X_test, y_train, y_test = train_test_split(\n",
    "    X, y, test_size=0.2, stratify=y, random_state=42\n",
    ")\n",
    "\n",
    "# 2. Compute class weights for LightGBM\n",
    "classes = np.unique(y_train)\n",
    "weights = compute_class_weight(class_weight='balanced', classes=classes, y=y_train)\n",
    "class_weight_dict = {cls: weight for cls, weight in zip(classes, weights)}\n",
    "\n",
    "# 3. Define the three models\n",
    "lgb_model = LGBMClassifier(\n",
    "    objective='multiclass',\n",
    "    num_class=len(classes),\n",
    "    class_weight=class_weight_dict,\n",
    "    learning_rate=0.1,\n",
    "    num_leaves=31,\n",
    "    n_estimators=200,\n",
    "    random_state=42\n",
    ")\n",
    "\n",
    "histgb_model = HistGradientBoostingClassifier(\n",
    "    learning_rate=0.05,\n",
    "    max_iter=200,\n",
    "    max_leaf_nodes=31,\n",
    "    min_samples_leaf=50,\n",
    "    random_state=42\n",
    ")\n",
    "\n",
    "xgb_model = XGBClassifier(\n",
    "    learning_rate=0.1,\n",
    "    max_depth=5,\n",
    "    n_estimators=100,\n",
    "    eval_metric='mlogloss',\n",
    "    use_label_encoder=False,\n",
    "    random_state=42\n",
    ")\n",
    "\n",
    "# 4. Create soft voting ensemble\n",
    "ensemble_model = VotingClassifier(\n",
    "    estimators=[\n",
    "        ('lgb', lgb_model),\n",
    "        ('histgb', histgb_model),\n",
    "        ('xgb', xgb_model)\n",
    "    ],\n",
    "    voting='soft',  # average probabilities\n",
    "    n_jobs=-1\n",
    ")\n",
    "\n",
    "# 5. Train the ensemble\n",
    "ensemble_model.fit(X_train, y_train)\n",
    "\n",
    "# 6. Evaluate\n",
    "y_pred = ensemble_model.predict(X_test)\n",
    "print(\"📊 Voting Ensemble Accuracy:\", accuracy_score(y_test, y_pred))\n",
    "print(\"📋 Classification Report:\\n\", classification_report(y_test, y_pred))\n"
   ]
  },
  {
   "cell_type": "code",
   "execution_count": 15,
   "id": "b14fa0fe-198d-4a1f-ab9c-8548d69e179a",
   "metadata": {},
   "outputs": [
    {
     "data": {
      "image/png": "[encoded data removed]",
      "text/plain": [
       "<Figure size 640x480 with 2 Axes>"
      ]
     },
     "metadata": {},
     "output_type": "display_data"
    }
   ],
   "source": [
    "\n",
    "# Compute confusion matrix\n",
    "cm = confusion_matrix(y_test, y_pred)\n",
    "\n",
    "# Plot it\n",
    "disp = ConfusionMatrixDisplay(confusion_matrix=cm)\n",
    "disp.plot(cmap=\"Blues\", xticks_rotation=45)\n",
    "\n",
    "plt.title(\"Confusion Matrix\")\n",
    "plt.grid(False)\n",
    "plt.tight_layout()\n",
    "plt.show()\n"
   ]
  },
  {
   "cell_type": "markdown",
   "id": "fd165ba2-c8e2-4e0e-aa2c-763ae9386e2e",
   "metadata": {},
   "source": [
    "The voting ensemble model, which integrates LightGBM, HistGradientBoostingClassifier, and XGBoost, achieved a solid overall accuracy of 63.6%, with both macro and weighted F1-scores of 0.64. This indicates that the model performs consistently across all classes, without being overly biased toward any single category. Analyzing the class-wise performance, we see that class 0 reached an F1-score of 0.64, showing substantial improvement in recall (0.58) and precision (0.72), which were areas of concern in earlier models. Classes 1 and 3 both yielded stable F1-scores of 0.62, indicating balanced performance in mid-range property prices. Importantly, class 2, which had been challenging throughout development, achieved an F1-score of 0.54, showing that the ensemble was able to extract more signal from this ambiguous category. Class 4, representing the highest property price range, remained the strongest with an impressive F1-score of 0.80, supported by both high precision (0.79) and recall (0.80).\n",
    "\n",
    "The confusion matrix further validates these outcomes: most predictions fall along the diagonal, showing that the model correctly classifies a majority of samples in each class. Misclassifications, where they occur, are largely concentrated between adjacent price ranges—such as class 1 misclassified as class 2 or class 0—indicating that the model is sensitive to subtle boundary shifts rather than systemic errors. Overall, this ensemble delivers a well-rounded and reliable multiclass classification solution that effectively balances predictive strength across both frequent and underrepresented property price categories."
   ]
  },
  {
   "cell_type": "code",
   "execution_count": 16,
   "id": "13a901a0-a62a-453f-8838-a159811b05ce",
   "metadata": {},
   "outputs": [
    {
     "name": "stderr",
     "output_type": "stream",
     "text": [
      "2025/04/22 00:00:19 INFO mlflow.tracking.fluent: Experiment with name 'Property_Price_Ensemble' does not exist. Creating a new experiment.\n",
      "\u001b[31m2025/04/22 00:00:22 WARNING mlflow.models.model: Model logged without a signature and input example. Please set `input_example` parameter when logging the model to auto infer the model signature.\u001b[0m\n"
     ]
    },
    {
     "name": "stdout",
     "output_type": "stream",
     "text": [
      "✅ MLflow run completed at 2025-04-22 00:00:22\n",
      "Logged to experiment: Property_Price_Ensemble\n"
     ]
    },
    {
     "data": {
      "image/png": "[encoded data removed]",
      "text/plain": [
       "<Figure size 640x480 with 2 Axes>"
      ]
     },
     "metadata": {},
     "output_type": "display_data"
    }
   ],
   "source": [
    "import mlflow\n",
    "import mlflow.sklearn\n",
    "import json\n",
    "import matplotlib.pyplot as plt\n",
    "from sklearn.metrics import (\n",
    "    accuracy_score, f1_score, classification_report, confusion_matrix, ConfusionMatrixDisplay\n",
    ")\n",
    "from datetime import datetime\n",
    "import os\n",
    "\n",
    "# Set experiment with timestamped name to avoid overwrites\n",
    "experiment_name = \"Property_Price_Ensemble\"\n",
    "mlflow.set_experiment(experiment_name)\n",
    "\n",
    "# Optional: Create folder for artifacts\n",
    "os.makedirs(\"mlruns_artifacts\", exist_ok=True)\n",
    "\n",
    "# Start the run\n",
    "with mlflow.start_run(run_name=\"VotingEnsemble_LGB_HistGB_XGB\"):\n",
    "\n",
    "    # === 1. Log Model Parameters ===\n",
    "    mlflow.log_param(\"model_type\", \"VotingClassifier\")\n",
    "    mlflow.log_param(\"voting\", \"soft\")\n",
    "    mlflow.log_param(\"lgb_learning_rate\", 0.1)\n",
    "    mlflow.log_param(\"lgb_n_estimators\", 200)\n",
    "    mlflow.log_param(\"histgb_learning_rate\", 0.05)\n",
    "    mlflow.log_param(\"histgb_max_iter\", 200)\n",
    "    mlflow.log_param(\"xgb_learning_rate\", 0.1)\n",
    "    mlflow.log_param(\"xgb_max_depth\", 5)\n",
    "\n",
    "    # === 2. Train and Evaluate ===\n",
    "    accuracy = accuracy_score(y_test, y_pred)\n",
    "    macro_f1 = f1_score(y_test, y_pred, average='macro')\n",
    "    weighted_f1 = f1_score(y_test, y_pred, average='weighted')\n",
    "\n",
    "    # === 3. Log Evaluation Metrics ===\n",
    "    mlflow.log_metric(\"accuracy\", accuracy)\n",
    "    mlflow.log_metric(\"macro_f1\", macro_f1)\n",
    "    mlflow.log_metric(\"weighted_f1\", weighted_f1)\n",
    "\n",
    "    # === 4. Log the Trained Model Artifact ===\n",
    "    mlflow.sklearn.log_model(ensemble_model, artifact_path=\"voting_ensemble_model\")\n",
    "\n",
    "    # === 5. Log Classification Report (JSON) ===\n",
    "    report_dict = classification_report(y_test, y_pred, output_dict=True)\n",
    "    report_path = \"mlruns_artifacts/classification_report.json\"\n",
    "    with open(report_path, \"w\") as f:\n",
    "        json.dump(report_dict, f, indent=4)\n",
    "    mlflow.log_artifact(report_path)\n",
    "\n",
    "    # === 6. Log Confusion Matrix Plot ===\n",
    "    cm = confusion_matrix(y_test, y_pred)\n",
    "    disp = ConfusionMatrixDisplay(confusion_matrix=cm)\n",
    "    disp.plot(cmap=\"Blues\", xticks_rotation=45)\n",
    "    plt.title(\"Confusion Matrix: Voting Ensemble\")\n",
    "    cm_path = \"mlruns_artifacts/confusion_matrix.png\"\n",
    "    plt.savefig(cm_path)\n",
    "    mlflow.log_artifact(cm_path)\n",
    "\n",
    "    # === 7. Save Raw Predictions (Optional for Testing Audit) ===\n",
    "    pred_df = pd.DataFrame({\"y_true\": y_test, \"y_pred\": y_pred})\n",
    "    pred_path = \"mlruns_artifacts/predictions.csv\"\n",
    "    pred_df.to_csv(pred_path, index=False)\n",
    "    mlflow.log_artifact(pred_path)\n",
    "\n",
    "    print(f\"✅ MLflow run completed at {datetime.now().strftime('%Y-%m-%d %H:%M:%S')}\")\n",
    "    print(f\"Logged to experiment: {experiment_name}\")\n"
   ]
  },
  {
   "cell_type": "code",
   "execution_count": null,
   "id": "f8e39049-6679-475a-a4f6-54e4dc9e1836",
   "metadata": {},
   "outputs": [],
   "source": []
  },
  {
   "cell_type": "code",
   "execution_count": null,
   "id": "0626c88f-04cb-44cb-87b0-b1c789a072a2",
   "metadata": {},
   "outputs": [],
   "source": []
  },
  {
   "cell_type": "code",
   "execution_count": null,
   "id": "3f257de6-cb86-4887-8dcb-51ede36bbe5f",
   "metadata": {},
   "outputs": [],
   "source": []
  }
 ],
 "metadata": {
  "kernelspec": {
   "display_name": "Python (myenv)",
   "language": "python",
   "name": "myenv"
  },
  "language_info": {
   "codemirror_mode": {
    "name": "ipython",
    "version": 3
   },
   "file_extension": ".py",
   "mimetype": "text/x-python",
   "name": "python",
   "nbconvert_exporter": "python",
   "pygments_lexer": "ipython3",
   "version": "3.10.16"
  }
 },
 "nbformat": 4,
 "nbformat_minor": 5
}
